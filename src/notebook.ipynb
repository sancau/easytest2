{
 "cells": [
  {
   "cell_type": "code",
   "execution_count": 8,
   "metadata": {
    "collapsed": false
   },
   "outputs": [
    {
     "name": "stdout",
     "output_type": "stream",
     "text": [
      "[Errno 2] No such file or directory: './humidity/tz'\n",
      "/home/sancau/Desktop/easytest2/src/humidity/tz\n",
      "total 144\r\n",
      "-rw-rw-r-- 1 sancau sancau 15936 Jan  6 17:09 1.xlsx\r\n",
      "-rw-rw-r-- 1 sancau sancau 47104 Jan  6 16:48 25-90.doc\r\n",
      "-rw-rw-r-- 1 sancau sancau 15976 Jan  6 17:09 2.xlsx\r\n",
      "-rw-rw-r-- 1 sancau sancau 15982 Jan  6 17:09 3.xlsx\r\n",
      "-rw-rw-r-- 1 sancau sancau  7511 Jan  6 16:48 Atlas_25_90_RotronicHygroLogNT_4_20161107_145056.xls\r\n",
      "-rw-rw-r-- 1 sancau sancau  7679 Jan  6 16:48 Atlas_25_90_RotronicHygroLogNT_5_20161107_145056.xls\r\n",
      "-rw-rw-r-- 1 sancau sancau  7679 Jan  6 16:48 Atlas_25_90_RotronicHygroLogNT_6_20161107_145056.xls\r\n",
      "-rw-rw-r-- 1 sancau sancau 23568 Jan  6 16:48 ТЗ на программу по влаге.docx\r\n"
     ]
    }
   ],
   "source": [
    "% cd ./humidity/tz \n",
    "% ls -l"
   ]
  },
  {
   "cell_type": "code",
   "execution_count": 9,
   "metadata": {
    "collapsed": true
   },
   "outputs": [],
   "source": [
    "from collections import namedtuple\n",
    "\n",
    "import pandas as pd"
   ]
  },
  {
   "cell_type": "code",
   "execution_count": 30,
   "metadata": {
    "collapsed": true
   },
   "outputs": [],
   "source": [
    "LogDescriptions = namedtuple('LogDescriptions', ['DT1', 'DT2', 'KT'])\n",
    "DESC = LogDescriptions('DT1', 'DT2', 'KT')\n",
    "\n",
    "HUM_MODE = {\n",
    "    'logs': [\n",
    "        {\n",
    "            'file': '1.xlsx',\n",
    "            'desc': DESC.DT1\n",
    "        },\n",
    "        {\n",
    "            'file': '2.xlsx',\n",
    "            'desc': DESC.DT2\n",
    "        },\n",
    "        {\n",
    "            'file': '2.xlsx',\n",
    "            'desc': DESC.KT\n",
    "        }\n",
    "    ],\n",
    "    'target': {\n",
    "        'hum': 90,\n",
    "        'temp': 25\n",
    "    },\n",
    "    'slice_length': 10,\n",
    "    'max_deviation': {\n",
    "        'hum': {\n",
    "            'positive': 3,\n",
    "            'negative': 3\n",
    "        },\n",
    "        'temp': {\n",
    "            'positive': 2,\n",
    "            'negative': 2\n",
    "        }\n",
    "    },\n",
    "    'round_to': 1,\n",
    "    'md': {\n",
    "        'hum': [90, 90, 90, 90, 90, 90, 90, 90, 90, 90],\n",
    "        'temp': [25, 25, 25, 25, 25, 25, 25, 25, 25, 25]\n",
    "    }\n",
    "}"
   ]
  },
  {
   "cell_type": "code",
   "execution_count": 31,
   "metadata": {
    "collapsed": false
   },
   "outputs": [],
   "source": [
    "def parse_xlsx(data):\n",
    "    dates = []\n",
    "    df = pd.DataFrame()\n",
    "    for item in data:\n",
    "        file, label = item\n",
    "        log = pd.read_excel(file, skiprows=56)\n",
    "        log.columns = ['date', 'time', label+'_hum', label+'_temp', 'crap']\n",
    "        dates.append(log.date[0].date())\n",
    "        log.drop(['date', 'time', 'crap'], axis=1, inplace=True)\n",
    "        df = log if df.empty else pd.merge(df, log, \n",
    "                                           left_index=True, \n",
    "                                           right_index=True, \n",
    "                                           how='inner')\n",
    "    \n",
    "    date = max(dates)  # use latest date\n",
    "    df['date'] = pd.Series([date for i in df.index])\n",
    "    \n",
    "    return df\n",
    "\n",
    "\n",
    "def parse_csv(data):\n",
    "    raise NotImplementedError('This method is not implemented yet')\n",
    "    \n",
    "\n",
    "def mode_valid(mode):\n",
    "    return all(mode['slice_length'] == len(mode['md'][i]) for i in ['hum', 'temp'])\n",
    "\n",
    "\n",
    "def calculate(mode_slice):\n",
    "    pass\n",
    "    \n",
    "    \n",
    "def handle_mode(mode):\n",
    "    if not mode_valid(mode):\n",
    "        raise ValueError('Invalid humidity mode data provided')\n",
    "    \n",
    "    log = parse_xlsx((log['file'], log['desc']) for log in mode['logs'])\n",
    "    \n",
    "    # splits log data in slices of required length\n",
    "    # check if the test for slice is passed\n",
    "    # if passed build result dict and return it\n",
    "    # else try next slice till success or end of data\n",
    "    # return result dict\n",
    "    \n",
    "    return log  # TODO return result dict"
   ]
  },
  {
   "cell_type": "code",
   "execution_count": 32,
   "metadata": {
    "collapsed": false
   },
   "outputs": [
    {
     "data": {
      "text/html": [
       "<div>\n",
       "<table border=\"1\" class=\"dataframe\">\n",
       "  <thead>\n",
       "    <tr style=\"text-align: right;\">\n",
       "      <th></th>\n",
       "      <th>DT1_hum</th>\n",
       "      <th>DT1_temp</th>\n",
       "      <th>DT2_hum</th>\n",
       "      <th>DT2_temp</th>\n",
       "      <th>KT_hum</th>\n",
       "      <th>KT_temp</th>\n",
       "      <th>date</th>\n",
       "    </tr>\n",
       "  </thead>\n",
       "  <tbody>\n",
       "    <tr>\n",
       "      <th>0</th>\n",
       "      <td>88.43</td>\n",
       "      <td>24.84</td>\n",
       "      <td>89.34</td>\n",
       "      <td>24.79</td>\n",
       "      <td>89.34</td>\n",
       "      <td>24.79</td>\n",
       "      <td>2016-11-07</td>\n",
       "    </tr>\n",
       "    <tr>\n",
       "      <th>1</th>\n",
       "      <td>88.38</td>\n",
       "      <td>24.87</td>\n",
       "      <td>89.28</td>\n",
       "      <td>24.77</td>\n",
       "      <td>89.28</td>\n",
       "      <td>24.77</td>\n",
       "      <td>2016-11-07</td>\n",
       "    </tr>\n",
       "    <tr>\n",
       "      <th>2</th>\n",
       "      <td>88.25</td>\n",
       "      <td>24.86</td>\n",
       "      <td>89.17</td>\n",
       "      <td>24.79</td>\n",
       "      <td>89.17</td>\n",
       "      <td>24.79</td>\n",
       "      <td>2016-11-07</td>\n",
       "    </tr>\n",
       "    <tr>\n",
       "      <th>3</th>\n",
       "      <td>88.13</td>\n",
       "      <td>24.84</td>\n",
       "      <td>89.03</td>\n",
       "      <td>24.78</td>\n",
       "      <td>89.03</td>\n",
       "      <td>24.78</td>\n",
       "      <td>2016-11-07</td>\n",
       "    </tr>\n",
       "    <tr>\n",
       "      <th>4</th>\n",
       "      <td>88.02</td>\n",
       "      <td>24.83</td>\n",
       "      <td>88.91</td>\n",
       "      <td>24.76</td>\n",
       "      <td>88.91</td>\n",
       "      <td>24.76</td>\n",
       "      <td>2016-11-07</td>\n",
       "    </tr>\n",
       "  </tbody>\n",
       "</table>\n",
       "</div>"
      ],
      "text/plain": [
       "  DT1_hum DT1_temp DT2_hum DT2_temp KT_hum KT_temp        date\n",
       "0   88.43    24.84   89.34    24.79  89.34   24.79  2016-11-07\n",
       "1   88.38    24.87   89.28    24.77  89.28   24.77  2016-11-07\n",
       "2   88.25    24.86   89.17    24.79  89.17   24.79  2016-11-07\n",
       "3   88.13    24.84   89.03    24.78  89.03   24.78  2016-11-07\n",
       "4   88.02    24.83   88.91    24.76  88.91   24.76  2016-11-07"
      ]
     },
     "execution_count": 32,
     "metadata": {},
     "output_type": "execute_result"
    }
   ],
   "source": [
    "handle_mode(HUM_MODE).head()"
   ]
  },
  {
   "cell_type": "code",
   "execution_count": null,
   "metadata": {
    "collapsed": true
   },
   "outputs": [],
   "source": [
    ""
   ]
  }
 ],
 "metadata": {
  "anaconda-cloud": {},
  "kernelspec": {
   "display_name": "Python [Root]",
   "language": "python",
   "name": "Python [Root]"
  },
  "language_info": {
   "codemirror_mode": {
    "name": "ipython",
    "version": 3.0
   },
   "file_extension": ".py",
   "mimetype": "text/x-python",
   "name": "python",
   "nbconvert_exporter": "python",
   "pygments_lexer": "ipython3",
   "version": "3.5.2"
  }
 },
 "nbformat": 4,
 "nbformat_minor": 0
}
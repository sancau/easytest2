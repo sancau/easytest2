{
 "cells": [
  {
   "cell_type": "code",
   "execution_count": 9,
   "metadata": {
    "collapsed": true
   },
   "outputs": [],
   "source": [
    "from collections import namedtuple\n",
    "from statistics import mean as python_mean\n",
    "from functools import partial\n",
    "\n",
    "import pandas as pd"
   ]
  },
  {
   "cell_type": "code",
   "execution_count": 10,
   "metadata": {
    "collapsed": true
   },
   "outputs": [],
   "source": [
    "LogDescriptions = namedtuple('LogDescriptions', ['DT1', 'DT2', 'KT'])\n",
    "DESC = LogDescriptions('DT1', 'DT2', 'KT')\n",
    "\n",
    "TEST_HUMIDITY_MODE = {\n",
    "    'logs': [\n",
    "        {\n",
    "            'file': r'C:\\Users\\2065\\Desktop\\easytest2\\src\\test_data\\humidity\\1.xlsx',\n",
    "            'desc': DESC.DT1\n",
    "        },\n",
    "        {\n",
    "            'file': r'C:\\Users\\2065\\Desktop\\easytest2\\src\\test_data\\humidity\\2.xlsx',\n",
    "            'desc': DESC.DT2\n",
    "        },\n",
    "        {\n",
    "            'file': r'C:\\Users\\2065\\Desktop\\easytest2\\src\\test_data\\humidity\\2.xlsx',\n",
    "            'desc': DESC.KT\n",
    "        }\n",
    "    ],\n",
    "    'target': {\n",
    "        'humidity': 90,\n",
    "        'temperature': 25\n",
    "    },\n",
    "    'md': {\n",
    "        'humidity': [90, 90, 90, 90, 90, 90, 90, 90, 90, 90],\n",
    "        'temperature': [25, 25, 25, 25, 25, 25, 25, 25, 25, 25]\n",
    "    }\n",
    "}\n",
    "\n",
    "TEST_HUMIDITY_MODE.update({  # default humidity settings\n",
    "    'slice_length': 10,\n",
    "    'round_to': 1,\n",
    "    'max_deviation': {\n",
    "        'temperature': 2,\n",
    "        'humidity': {\n",
    "            'default': (3, -3),\n",
    "            '98': (2, -3)\n",
    "        }\n",
    "    }\n",
    "})"
   ]
  },
  {
   "cell_type": "code",
   "execution_count": 11,
   "metadata": {
    "collapsed": false
   },
   "outputs": [],
   "source": [
    "def parse_xlsx(data):\n",
    "    dates = []\n",
    "    df = pd.DataFrame()\n",
    "    for item in data:\n",
    "        file, label = item\n",
    "        log = pd.read_excel(file, skiprows=56)\n",
    "        log.columns = ['date', 'time', label+'_hum', label+'_temp', 'crap']\n",
    "        dates.append(log.date[0].date())\n",
    "        log.drop(['date', 'time', 'crap'], axis=1, inplace=True)\n",
    "        df = log if df.empty else pd.merge(df, log, \n",
    "                                           left_index=True, \n",
    "                                           right_index=True, \n",
    "                                           how='inner')\n",
    "    \n",
    "    date = max(dates)  # use latest date\n",
    "    df['date'] = pd.Series([date for i in df.index])\n",
    "    \n",
    "    return df\n",
    "\n",
    "\n",
    "def parse_csv(data):\n",
    "    raise NotImplementedError('This method is not implemented yet')\n",
    "    \n",
    "\n",
    "def mode_valid(mode):\n",
    "    return all(mode['slice_length'] == len(mode['md'][i]) \n",
    "               for i in ['humidity', 'temperature'])\n",
    "\n",
    "\n",
    "def get_abs_distance(a, b):\n",
    "    return abs(max([a, b]) - min([a, b]))\n",
    "    \n",
    "    \n",
    "def calculate_mode(mode, log_slice):\n",
    "    #######################\n",
    "    # TEST BUSINESS LOGIC #\n",
    "    #######################\n",
    "   \n",
    "    def mean(arr):\n",
    "        return round(python_mean(arr), mode['round_to'])\n",
    "    \n",
    "    date = log_slice.date.max() \n",
    "    \n",
    "    dt1_humidity = log_slice.DT1_hum.astype(float).tolist()\n",
    "    dt2_humidity = log_slice.DT2_hum.astype(float).tolist()\n",
    "    \n",
    "    kt_temperature = log_slice.KT_temp.astype(float).tolist()\n",
    "    kt_humidity = log_slice.KT_hum.astype(float).tolist()\n",
    "    \n",
    "    target_humidity = mode['target']['humidity']\n",
    "    hum_max_dev_settings = mode['max_deviation']['humidity']\n",
    "    \n",
    "    print(hum_max_dev_settings)\n",
    "    \n",
    "    # if not special setting use default values\n",
    "    humidity_max_deviation = \\\n",
    "        hum_max_dev_settings.get(target_humidity,\n",
    "                                 hum_max_dev_settings['default'])     \n",
    "    \n",
    "    max_mean_humidity = max(mean(dt1_humidity), \n",
    "                            mean(dt2_humidity),\n",
    "                            mean(kt_humidity))\n",
    "    \n",
    "    min_mean_humidity = min(mean(dt1_humidity), \n",
    "                            mean(dt2_humidity),\n",
    "                            mean(kt_humidity))\n",
    "    \n",
    "    md_delta_humidity = get_abs_distance(mean(kt_humidity),\n",
    "                                         mean(mode['md']['humidity']))\n",
    "    \n",
    "    positive_deviation = get_abs_distance(max_mean_humidity, target_humidity)\n",
    "    negative_deviation = get_abs_distance(min_mean_humidity, target_humidity)\n",
    "        \n",
    "    output = {  # resulting object with all the necessary data\n",
    "        'date': date,\n",
    "        'target': mode['target'],\n",
    "        'max_allowed_deviation': {\n",
    "            'temperature': mode['max_deviation']['temperature'],\n",
    "            'humidity': humidity_max_deviation\n",
    "        },\n",
    "        'md_temperature': mode['md']['temperature'],\n",
    "        'md_humidity': mode['md']['humidity'],\n",
    "        'dt1_mean_temperature': mean(dt1_humidity),\n",
    "        'dt2_mean_temperature': mean(dt2_humidity),\n",
    "        'kt_mean_temperature': mean(kt_temperature),\n",
    "        'kt_mean_humidity': mean(kt_humidity),\n",
    "        'md_mean_temperature': mean(mode['md']['temperature']),\n",
    "        'md_mean_humidity': mean(mode['md']['humidity']),\n",
    "        'max_mean_humidity': max_mean_humidity,\n",
    "        'min_mean_humidity': min_mean_humidity,\n",
    "        'md_delta_humidity': md_delta_humidity,\n",
    "        'positive_deviation': positive_deviation,\n",
    "        'negative_deviation': negative_deviation,\n",
    "        'humidity_deviation': max_mean_humidity - min_mean_humidity,\n",
    "        'result': {}\n",
    "    }\n",
    "    \n",
    "    if positive_deviation:\n",
    "        output['result']['positive'] = {\n",
    "            'passed': positive_deviation < (abs(humidity_max_deviation[0]) - \n",
    "                                            md_delta_humidity),\n",
    "            'equation_result': (abs(humidity_max_deviation[0]) - \n",
    "                                md_delta_humidity)\n",
    "        }\n",
    "        \n",
    "    if negative_deviation:\n",
    "        output['result']['negative'] = {\n",
    "            'passed': negative_deviation < (abs(humidity_max_deviation[1]) - \n",
    "                                            md_delta_humidity),\n",
    "            'equation_result': (abs(humidity_max_deviation[1]) - \n",
    "                                md_delta_humidity)\n",
    "        }\n",
    "    \n",
    "    output['result']['summary_mode_result'] = (\n",
    "        output['result']['negative']['passed'] and \n",
    "        output['result']['positive']['passed'])\n",
    "            \n",
    "    return output\n",
    "    \n",
    "    \n",
    "def handle_mode(mode):\n",
    "    if not mode_valid(mode):\n",
    "        raise ValueError('Invalid humidity mode data provided')\n",
    "    \n",
    "    log = parse_xlsx((log['file'], log['desc']) for log in mode['logs'])\n",
    "    \n",
    "    log.drop(['DT1_temp', 'DT2_temp'], axis=1, inplace=True)  # no need\n",
    "    \n",
    "    slice_length = mode['slice_length']\n",
    "    \n",
    "    cursor = 0\n",
    "    while True:\n",
    "        log_slice = log[cursor: cursor + slice_length]\n",
    "        result = calculate_mode(mode, log_slice)\n",
    "        \n",
    "        if log_slice.shape[0] < 10 or result['result']['summary_mode_result']:\n",
    "            return result  # if test totaly passed return result or log ended\n",
    "        else:\n",
    "            cursor += 1  # move futher"
   ]
  },
  {
   "cell_type": "code",
   "execution_count": 12,
   "metadata": {
    "collapsed": false
   },
   "outputs": [
    {
     "name": "stdout",
     "output_type": "stream",
     "text": [
      "{'98': (2, -3), 'default': (3, -3)}\n"
     ]
    },
    {
     "data": {
      "text/plain": [
       "{'date': datetime.date(2016, 11, 7),\n",
       " 'dt1_mean_temperature': 88.299999999999997,\n",
       " 'dt2_mean_temperature': 89.200000000000003,\n",
       " 'humidity_deviation': 0.90000000000000568,\n",
       " 'kt_mean_humidity': 89.200000000000003,\n",
       " 'kt_mean_temperature': 24.800000000000001,\n",
       " 'max_allowed_deviation': {'humidity': (3, -3), 'temperature': 2},\n",
       " 'max_mean_humidity': 89.200000000000003,\n",
       " 'md_delta_humidity': 0.79999999999999716,\n",
       " 'md_humidity': [90, 90, 90, 90, 90, 90, 90, 90, 90, 90],\n",
       " 'md_mean_humidity': 90,\n",
       " 'md_mean_temperature': 25,\n",
       " 'md_temperature': [25, 25, 25, 25, 25, 25, 25, 25, 25, 25],\n",
       " 'min_mean_humidity': 88.299999999999997,\n",
       " 'negative_deviation': 1.7000000000000028,\n",
       " 'positive_deviation': 0.79999999999999716,\n",
       " 'result': {'negative': {'equation_result': 2.2000000000000028,\n",
       "   'passed': True},\n",
       "  'positive': {'equation_result': 2.2000000000000028, 'passed': True},\n",
       "  'summary_mode_result': True},\n",
       " 'target': {'humidity': 90, 'temperature': 25}}"
      ]
     },
     "execution_count": 12,
     "metadata": {},
     "output_type": "execute_result"
    }
   ],
   "source": [
    "handle_mode(TEST_HUMIDITY_MODE)"
   ]
  },
  {
   "cell_type": "code",
   "execution_count": null,
   "metadata": {
    "collapsed": true
   },
   "outputs": [],
   "source": [
    ""
   ]
  },
  {
   "cell_type": "code",
   "execution_count": null,
   "metadata": {
    "collapsed": true
   },
   "outputs": [],
   "source": [
    ""
   ]
  },
  {
   "cell_type": "code",
   "execution_count": null,
   "metadata": {
    "collapsed": true
   },
   "outputs": [],
   "source": [
    ""
   ]
  },
  {
   "cell_type": "code",
   "execution_count": null,
   "metadata": {
    "collapsed": true
   },
   "outputs": [],
   "source": [
    ""
   ]
  }
 ],
 "metadata": {
  "anaconda-cloud": {},
  "kernelspec": {
   "display_name": "Python [Root]",
   "language": "python",
   "name": "Python [Root]"
  },
  "language_info": {
   "codemirror_mode": {
    "name": "ipython",
    "version": 3.0
   },
   "file_extension": ".py",
   "mimetype": "text/x-python",
   "name": "python",
   "nbconvert_exporter": "python",
   "pygments_lexer": "ipython3",
   "version": "3.5.2"
  }
 },
 "nbformat": 4,
 "nbformat_minor": 0
}